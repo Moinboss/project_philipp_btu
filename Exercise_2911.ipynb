{
 "cells": [
  {
   "cell_type": "markdown",
   "metadata": {},
   "source": [
    "Excercise"
   ]
  },
  {
   "cell_type": "markdown",
   "metadata": {},
   "source": [
    "## PV, CHP, Bio, Natural-gas, District heating"
   ]
  },
  {
   "cell_type": "markdown",
   "metadata": {},
   "source": [
    "### 1)Import Packages"
   ]
  },
  {
   "cell_type": "code",
   "execution_count": 1,
   "metadata": {},
   "outputs": [
    {
     "name": "stderr",
     "output_type": "stream",
     "text": [
      "c:\\Users\\moino\\anaconda3\\Lib\\site-packages\\paramiko\\pkey.py:82: CryptographyDeprecationWarning: TripleDES has been moved to cryptography.hazmat.decrepit.ciphers.algorithms.TripleDES and will be removed from this module in 48.0.0.\n",
      "  \"cipher\": algorithms.TripleDES,\n",
      "c:\\Users\\moino\\anaconda3\\Lib\\site-packages\\paramiko\\transport.py:219: CryptographyDeprecationWarning: Blowfish has been moved to cryptography.hazmat.decrepit.ciphers.algorithms.Blowfish and will be removed from this module in 45.0.0.\n",
      "  \"class\": algorithms.Blowfish,\n",
      "c:\\Users\\moino\\anaconda3\\Lib\\site-packages\\paramiko\\transport.py:243: CryptographyDeprecationWarning: TripleDES has been moved to cryptography.hazmat.decrepit.ciphers.algorithms.TripleDES and will be removed from this module in 48.0.0.\n",
      "  \"class\": algorithms.TripleDES,\n"
     ]
    }
   ],
   "source": [
    "import pypsa\n",
    "import pandapower as pp\n",
    "import os\n",
    "import matplotlib.pyplot as plt\n",
    "import numpy as np\n",
    "import pandas as pd\n",
    "import cartopy.crs as ccrs\n",
    "import warnings\n",
    "import subprocess\n",
    "from shapely.errors import ShapelyDeprecationWarning\n",
    "import logging\n",
    "\n",
    "warnings.filterwarnings(\"ignore\", category=ShapelyDeprecationWarning)\n",
    "warnings.filterwarnings(\"ignore\", category=FutureWarning)\n",
    "logging.getLogger(\"pypsa.pf\").setLevel(logging.WARNING)\n",
    "plt.rc(\"figure\", figsize=(10, 8))"
   ]
  },
  {
   "cell_type": "markdown",
   "metadata": {},
   "source": [
    "### 2)Create a network and set Snapshots"
   ]
  },
  {
   "cell_type": "code",
   "execution_count": null,
   "metadata": {},
   "outputs": [],
   "source": [
    "#availability = pd.read_csv(\"availability_df.csv\", index_col=0)\n",
    "#availability.head(2)"
   ]
  },
  {
   "cell_type": "code",
   "execution_count": 2,
   "metadata": {},
   "outputs": [],
   "source": [
    "# Create a new PyPSA network\n",
    "network = pypsa.Network()\n",
    "#snapshots1=pd.date_range(start=\"2023-01-01 00:00\", end=\"2023-01-31 23:00\", freq=\"h\")\n",
    "#network.set_snapshots(pd.date_range(\"2024-01-01\", periods=8760, freq_\"h\"))\n",
    "network.set_snapshots=pd.read_csv('snapshots.csv')\n",
    "#network.set_snapshots(snapshots1)\n",
    "solver='highs'"
   ]
  },
  {
   "cell_type": "markdown",
   "metadata": {},
   "source": [
    "### 3)Add Buses"
   ]
  },
  {
   "cell_type": "code",
   "execution_count": null,
   "metadata": {},
   "outputs": [],
   "source": [
    "Bus= pd.read_csv('buses.csv',header=0)\n",
    "network.madd(\n",
    "    \"Bus\",\n",
    "    names= Bus.Bus,\n",
    "    v_nom=list(Bus.v_nom),\n",
    "    carrier=list(Bus.carrier),\n",
    "    x=list(Bus.x),\n",
    "    y=list(Bus.y),\n",
    ")\n",
    "network.buses.head()"
   ]
  },
  {
   "cell_type": "markdown",
   "metadata": {},
   "source": [
    "### 4)Add generators"
   ]
  },
  {
   "cell_type": "code",
   "execution_count": null,
   "metadata": {},
   "outputs": [],
   "source": [
    "generators=pd.read_csv('powerplants.csv',header=0)\n",
    "generators.head()"
   ]
  },
  {
   "cell_type": "code",
   "execution_count": null,
   "metadata": {},
   "outputs": [],
   "source": [
    "# Read excel file which contains Non renewable generators data\n",
    "generators=pd.read_csv('powerplants.csv',header=0)\n",
    "gen_p_max_pu=pd.read_csv('availability_df.csv',parse_dates=True)\n",
    "#gen_p_max_pu['datetime']=pd.to_datetime(gen_p_max_pu['datetime'],format=\"%d-Xm-Xy %H:%M\")\n",
    "#gen_p_max_pu.set_index('datetime',inplace=True)\n",
    "network.madd(\n",
    "    \"Generator\",\n",
    "    names= generators.name,\n",
    "    bus=list(generators.bus),\n",
    "    #carrier=list(powerplants.carrier),\n",
    "    #p_nom=list(generators.p_nom),\n",
    "    p_nom_extendable=list(generators.p_nom_extendable),\n",
    "    #p_max_pu=gen_p_max_pu,\n",
    "    capital_cost=list(generators.capital_cost),\n",
    "    marginal_cost=list(generators.marginal_cost),\n",
    "    efficiency=list(generators.efficiency)\n",
    ") \n",
    "network.generators.head()"
   ]
  },
  {
   "cell_type": "code",
   "execution_count": null,
   "metadata": {},
   "outputs": [],
   "source": [
    "network.generators_t.p_max_pu=gen_p_max_pu"
   ]
  },
  {
   "cell_type": "code",
   "execution_count": null,
   "metadata": {},
   "outputs": [],
   "source": [
    "network.generators_t.p_max_pu.head(2)"
   ]
  },
  {
   "cell_type": "markdown",
   "metadata": {},
   "source": [
    "### 5)Add load"
   ]
  },
  {
   "cell_type": "code",
   "execution_count": null,
   "metadata": {},
   "outputs": [],
   "source": [
    "# Read excel file which contains Non renewable generators data\n",
    "load=pd.read_csv('demand_units.csv',header=0)\n",
    "load_p_set = pd.read_csv('demand_df.csv', parse_dates=True)\n",
    "load_p_set.set_index('datetime', inplace=True)\n",
    "#demand_df=pd\n",
    "network.madd(\n",
    "    \"Load\",\n",
    "    names= load.load,\n",
    "    bus=list(load.bus),\n",
    "    #p_set=list(load.p_set),\n",
    ")\n",
    "network.loads.p_set.head(2)"
   ]
  },
  {
   "cell_type": "code",
   "execution_count": null,
   "metadata": {},
   "outputs": [],
   "source": [
    "# Read excel file which contains Non renewable generators data\n",
    "load=pd.read_csv('demand_units.csv',header=0)\n",
    "load_p_set = pd.read_csv('demand_df.csv', parse_dates=True)\n",
    "load_p_set.set_index('datetime', inplace=True)\n",
    "#demand_df=pd\n",
    "network.madd(\n",
    "    \"Load\",\n",
    "    names= load.load,\n",
    "    bus=list(load.bus),\n",
    "    #p_set=list(load.p_set),\n",
    ")\n",
    "network.loads.head()"
   ]
  },
  {
   "cell_type": "code",
   "execution_count": null,
   "metadata": {},
   "outputs": [],
   "source": [
    "lines=pd.read_csv('lines.csv',header=0)\n",
    "network.madd(\n",
    "    \"Line\",\n",
    "    names= lines.Line,\n",
    "    bus0=list(lines.bus0),\n",
    "    bus1=list(lines.bus1),\n",
    "    s_nom=list(lines.s_nom),\n",
    "    s_nom_extendable=list(lines.s_nom),\n",
    "    r=list(lines.r),\n",
    "    x=list(lines.x),\n",
    ")\n",
    "network.lines.head()"
   ]
  },
  {
   "cell_type": "code",
   "execution_count": null,
   "metadata": {},
   "outputs": [],
   "source": []
  },
  {
   "cell_type": "markdown",
   "metadata": {},
   "source": [
    "### 6)Add links"
   ]
  },
  {
   "cell_type": "code",
   "execution_count": null,
   "metadata": {},
   "outputs": [],
   "source": [
    "links = pd.read_csv('links.csv', header=0)\n",
    "network.madd(\n",
    "    \"Link\",\n",
    "    names=links.Link,\n",
    "    bus0=list(links.bus0),\n",
    "    bus1=list(links.bus1),\n",
    "    #bus2=list(links.bus2),\n",
    "    p_nom=list(links.p_nom),\n",
    "    p_nom_extendable=list(links.p_nom_extendable),\n",
    "    efficiency=list(links.efficiency),\n",
    "    #efficiency2=list(links.efficiency2),\n",
    "    capital_cost=list(links.capital_cost),\n",
    ")\n",
    "network.links"
   ]
  },
  {
   "cell_type": "markdown",
   "metadata": {},
   "source": [
    "### 7)Add carriers"
   ]
  },
  {
   "cell_type": "code",
   "execution_count": null,
   "metadata": {},
   "outputs": [],
   "source": [
    "carriers = pd.read_csv('carrier.csv', header=0)\n",
    "network.madd(\n",
    "    \"Carrier\",\n",
    "    names=carriers.carrier,\n",
    "    co2_emissions=list(carriers.co2_emissions),\n",
    "    nice_name=list(carriers.carrier),\n",
    ")"
   ]
  },
  {
   "cell_type": "markdown",
   "metadata": {},
   "source": [
    "### 8)Storages"
   ]
  },
  {
   "cell_type": "code",
   "execution_count": null,
   "metadata": {},
   "outputs": [],
   "source": [
    "stores = pd.read_csv('stores.csv', header=0)\n",
    "network.madd(\n",
    "    \"Store\",\n",
    "    names=stores.name,\n",
    "    e_initial=list(stores.e_initial),\n",
    "    e_nom=list(stores.e_nom),\n",
    "    marginal_cost=list(stores.marginal_cost),\n",
    "    bus=list(stores.bus),\n",
    "    e_cyclic=list(stores.e_cyclic),\n",
    "    e_nom_extendable=list(stores.e_nom_extendable),\n",
    ")\n",
    "network.stores"
   ]
  },
  {
   "cell_type": "markdown",
   "metadata": {},
   "source": [
    "storage_units = pd.read_csv('storage_units.csv', header=0)\n",
    "network.madd(\n",
    "    \"Storage_units\",\n",
    "    names=stores.name,\n",
    "    e_initial=list(stores.e_initial),\n",
    "    e_nom=list(stores.e_nom),\n",
    "    marginal_cost=list(stores.marginal_cost),\n",
    "    bus=list(stores.bus),\n",
    "    e_cyclic=list(stores.e_cyclic),\n",
    "    e_nom_extendable=list(stores.e_nom_extendable),\n",
    ")\n",
    "network.stores"
   ]
  },
  {
   "cell_type": "markdown",
   "metadata": {},
   "source": [
    "### 9)Global constraints"
   ]
  },
  {
   "cell_type": "code",
   "execution_count": null,
   "metadata": {},
   "outputs": [],
   "source": [
    "network.add(\"GlobalConstraint\", \"co2_limit\", sense=\"<=\", constant=1000000.0)"
   ]
  },
  {
   "cell_type": "code",
   "execution_count": null,
   "metadata": {},
   "outputs": [],
   "source": [
    "network.optimize(solver_name='highs')"
   ]
  },
  {
   "cell_type": "code",
   "execution_count": null,
   "metadata": {},
   "outputs": [],
   "source": [
    "network.pf()"
   ]
  },
  {
   "cell_type": "code",
   "execution_count": null,
   "metadata": {},
   "outputs": [],
   "source": [
    "# Your DataFrame df\n",
    "df = pd.concat([network.generators_t.p.loc[0],\n",
    "        network.links_t.p0.loc[0],\n",
    "        network.loads_t.p.loc[0],\n",
    "    ],\n",
    "    keys=[\"Generators\", \"Links\", \"Line\"],\n",
    "    names=[\"Component\", \"index\"],\n",
    ").reset_index(name=\"Production\")\n",
    "\n",
    "# Plotting using PyPSA\n",
    "fig, ax = plt.subplots(figsize=(13, 7))\n",
    "\n",
    "# Plot generators\n",
    "df_generators = df[df[\"Component\"] == \"Generators\"]\n",
    "ax.bar(df_generators[\"index\"], df_generators[\"Production\"], label=\"Generators\")\n",
    "\n",
    "# Plot links\n",
    "df_links = df[df[\"Component\"] == \"Links\"]\n",
    "ax.bar(df_links[\"index\"], df_links[\"Production\"], label=\"Links\")\n",
    "\n",
    "# Plot loads\n",
    "df_loads = df[df[\"Component\"] == \"Line\"]\n",
    "ax.bar(df_loads[\"index\"], df_loads[\"Production\"], label=\"Line\")\n",
    "\n",
    "# Customize the plot\n",
    "ax.set_xlabel(\"Component\")\n",
    "ax.set_ylabel(\"Production (MW)\")\n",
    "ax.set_title(\"Power Production by Component\")\n",
    "ax.legend()\n",
    "\n",
    "# Show the plot\n",
    "plt.show()\n"
   ]
  }
 ],
 "metadata": {
  "@webio": {
   "lastCommId": null,
   "lastKernelId": null
  },
  "kernelspec": {
   "display_name": "base",
   "language": "python",
   "name": "python3"
  },
  "language_info": {
   "codemirror_mode": {
    "name": "ipython",
    "version": 3
   },
   "file_extension": ".py",
   "mimetype": "text/x-python",
   "name": "python",
   "nbconvert_exporter": "python",
   "pygments_lexer": "ipython3",
   "version": "3.12.3"
  }
 },
 "nbformat": 4,
 "nbformat_minor": 1
}
